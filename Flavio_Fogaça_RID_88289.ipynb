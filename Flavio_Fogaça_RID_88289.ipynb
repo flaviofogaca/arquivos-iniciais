{
  "nbformat": 4,
  "nbformat_minor": 0,
  "metadata": {
    "colab": {
      "provenance": [],
      "authorship_tag": "ABX9TyPaRyJrL4JarB/o577wVT1U",
      "include_colab_link": true
    },
    "kernelspec": {
      "name": "python3",
      "display_name": "Python 3"
    },
    "language_info": {
      "name": "python"
    }
  },
  "cells": [
    {
      "cell_type": "markdown",
      "metadata": {
        "id": "view-in-github",
        "colab_type": "text"
      },
      "source": [
        "<a href=\"https://colab.research.google.com/github/flaviofogaca/arquivos-iniciais/blob/main/Flavio_Foga%C3%A7a_RID_88289.ipynb\" target=\"_parent\"><img src=\"https://colab.research.google.com/assets/colab-badge.svg\" alt=\"Open In Colab\"/></a>"
      ]
    },
    {
      "cell_type": "markdown",
      "source": [
        "Flavio Fogaça RID#88289\n",
        "\n"
      ],
      "metadata": {
        "id": "g98Q63Nxn2YM"
      }
    },
    {
      "cell_type": "code",
      "execution_count": null,
      "metadata": {
        "colab": {
          "base_uri": "https://localhost:8080/",
          "height": 418
        },
        "id": "Y5uxwygfnrag",
        "outputId": "0c0bbde5-431a-448d-bd44-35bdcdb74baa"
      },
      "outputs": [
        {
          "output_type": "stream",
          "name": "stdout",
          "text": [
            "Nome: Flávio Fogaça - Idade:33\n",
            "\n",
            "Nome: Marina Bianchi - Idade:28\n",
            "\n",
            "Nome: Bruno Silva - Idade:23\n",
            "\n",
            "Nome: Vera Bianchi - Idade:61\n",
            "\n",
            "Nome: Ana Rodrigues - Idade:54\n",
            "\n",
            "\n"
          ]
        },
        {
          "output_type": "display_data",
          "data": {
            "text/plain": [
              "<Figure size 720x216 with 1 Axes>"
            ],
            "image/png": "[encoded data removed]"
          },
          "metadata": {
            "needs_background": "light"
          }
        }
      ],
      "source": [
        "l_nome = ['Flávio Fogaça', 'Marina Bianchi', 'Bruno Silva', 'Vera Bianchi', 'Ana Rodrigues']\n",
        "l_idade = [33, 28, 23, 61, 54]\n",
        "l_salario = [25000, 18000, 5000, 3500, 6000]\n",
        "\n",
        "for v1, v2 in zip(l_nome, l_idade):\n",
        "  print(f'Nome: {v1} - Idade:{v2}')\n",
        "  print()\n",
        "\n",
        "import matplotlib.pyplot as plt\n",
        "\n",
        "plt.figure(figsize=(10,3))\n",
        "plt.bar(l_nome,l_idade)\n",
        "plt.title('Nome x Idade')\n",
        "\n",
        "print()"
      ]
    },
    {
      "cell_type": "code",
      "source": [
        "for v1, v2 in zip(l_nome, l_salario):\n",
        "  print(f'Nome: {v1} - Pretensão salarial: R${v2}')\n",
        "  print()\n",
        "\n",
        "import matplotlib.pyplot as plt\n",
        "\n",
        "plt.figure(figsize=(10,3))\n",
        "plt.bar(l_nome,l_salario)\n",
        "plt.title('Nome x Salario')"
      ],
      "metadata": {
        "colab": {
          "base_uri": "https://localhost:8080/",
          "height": 418
        },
        "id": "7es575voqtAy",
        "outputId": "6137bcbc-3059-4c62-a5a8-4e3315eafd2c"
      },
      "execution_count": null,
      "outputs": [
        {
          "output_type": "stream",
          "name": "stdout",
          "text": [
            "Nome: Flávio Fogaça - Pretensão salarial: R$25000\n",
            "\n",
            "Nome: Marina Bianchi - Pretensão salarial: R$18000\n",
            "\n",
            "Nome: Bruno Silva - Pretensão salarial: R$5000\n",
            "\n",
            "Nome: Vera Bianchi - Pretensão salarial: R$3500\n",
            "\n",
            "Nome: Ana Rodrigues - Pretensão salarial: R$6000\n",
            "\n"
          ]
        },
        {
          "output_type": "execute_result",
          "data": {
            "text/plain": [
              "Text(0.5, 1.0, 'Nome x Salario')"
            ]
          },
          "metadata": {},
          "execution_count": 25
        },
        {
          "output_type": "display_data",
          "data": {
            "text/plain": [
              "<Figure size 720x216 with 1 Axes>"
            ],
            "image/png": "[encoded data removed]"
          },
          "metadata": {
            "needs_background": "light"
          }
        }
      ]
    },
    {
      "cell_type": "code",
      "source": [],
      "metadata": {
        "id": "hcFtXoKGsh2F"
      },
      "execution_count": null,
      "outputs": []
    }
  ]
}